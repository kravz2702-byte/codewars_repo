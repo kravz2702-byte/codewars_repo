{
 "cells": [
  {
   "cell_type": "code",
   "execution_count": 1,
   "metadata": {},
   "outputs": [
    {
     "name": "stdout",
     "output_type": "stream",
     "text": [
      "['', 'WE', 'ARE', '', 'THE', 'CHAMPIONS', 'MY', 'FRIEND', '']\n",
      "['WE']\n",
      "['WE', 'ARE']\n",
      "['WE', 'ARE', 'THE']\n",
      "['WE', 'ARE', 'THE', 'CHAMPIONS']\n",
      "['WE', 'ARE', 'THE', 'CHAMPIONS', 'MY']\n",
      "['WE', 'ARE', 'THE', 'CHAMPIONS', 'MY', 'FRIEND']\n",
      "WE ARE THE CHAMPIONS MY FRIEND\n"
     ]
    }
   ],
   "source": [
    "song = 'WUBWEWUBAREWUBWUBTHEWUBCHAMPIONSWUBMYWUBFRIENDWUB'\n",
    "\n",
    "def song_decoder(song):\n",
    "    song = song.split('WUB')\n",
    "    print(song)\n",
    "    original_song = []\n",
    "    for i in song:\n",
    "        if i != '':\n",
    "            original_song += [i]\n",
    "            print(original_song)\n",
    "    return ' '.join(original_song)\n",
    "\n",
    "print(song_decoder(song))"
   ]
  }
 ],
 "metadata": {
  "kernelspec": {
   "display_name": "Python 3",
   "language": "python",
   "name": "python3"
  },
  "language_info": {
   "codemirror_mode": {
    "name": "ipython",
    "version": 3
   },
   "file_extension": ".py",
   "mimetype": "text/x-python",
   "name": "python",
   "nbconvert_exporter": "python",
   "pygments_lexer": "ipython3",
   "version": "3.8.5"
  }
 },
 "nbformat": 4,
 "nbformat_minor": 4
}

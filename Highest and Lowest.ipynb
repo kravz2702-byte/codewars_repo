{
 "cells": [
  {
   "cell_type": "code",
   "execution_count": 39,
   "metadata": {},
   "outputs": [],
   "source": [
    "strn = '4 5 29 54 4 0 -214 542 -64 1 -3 6 -6'\n",
    "\n",
    "def my_sort(strk):\n",
    "    my_list = strk.split()\n",
    "    my_list = list(map(int, my_list))\n",
    "    my_list.sort(reverse = True)\n",
    "    \n",
    "    print(my_list)\n",
    "    return '{} {}'.format(my_list[0], my_list[-1])    \n",
    "    "
   ]
  }
 ],
 "metadata": {
  "kernelspec": {
   "display_name": "Python 3",
   "language": "python",
   "name": "python3"
  },
  "language_info": {
   "codemirror_mode": {
    "name": "ipython",
    "version": 3
   },
   "file_extension": ".py",
   "mimetype": "text/x-python",
   "name": "python",
   "nbconvert_exporter": "python",
   "pygments_lexer": "ipython3",
   "version": "3.8.5"
  }
 },
 "nbformat": 4,
 "nbformat_minor": 4
}

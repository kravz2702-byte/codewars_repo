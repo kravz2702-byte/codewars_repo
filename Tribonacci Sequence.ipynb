{
 "cells": [
  {
   "cell_type": "code",
   "execution_count": null,
   "metadata": {},
   "outputs": [],
   "source": [
    "    if n<1:\n",
    "        return []\n",
    "    if n<len(signature):\n",
    "        return signature[0:n]\n",
    "    inc = 0\n",
    "    seq = signature[:]\n",
    "    while inc<=n:\n",
    "        add = sum(seq[inc:inc+3])\n",
    "        seq.append(add)\n",
    "        inc += 1\n",
    "    return seq[0:n]"
   ]
  }
 ],
 "metadata": {
  "kernelspec": {
   "display_name": "Python 3",
   "language": "python",
   "name": "python3"
  },
  "language_info": {
   "codemirror_mode": {
    "name": "ipython",
    "version": 3
   },
   "file_extension": ".py",
   "mimetype": "text/x-python",
   "name": "python",
   "nbconvert_exporter": "python",
   "pygments_lexer": "ipython3",
   "version": "3.8.5"
  }
 },
 "nbformat": 4,
 "nbformat_minor": 4
}
